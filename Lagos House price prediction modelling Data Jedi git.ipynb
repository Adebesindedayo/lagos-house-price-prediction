{
 "cells": [
  {
   "cell_type": "markdown",
   "metadata": {},
   "source": [
    "### Import Requirements"
   ]
  },
  {
   "cell_type": "code",
   "execution_count": 1,
   "metadata": {},
   "outputs": [],
   "source": [
    "from sklearn.ensemble import RandomForestRegressor\n",
    "from sklearn import preprocessing\n",
    "import sklearn.model_selection as ms\n",
    "import sklearn.metrics as sklm\n",
    "import matplotlib.pyplot as plt\n",
    "import pandas as pd\n",
    "import numpy as np\n",
    "import warnings\n",
    "warnings.filterwarnings('ignore')\n",
    "import seaborn as sns\n",
    "%matplotlib inline\n",
    "from sklearn.metrics import accuracy_score\n",
    "from sklearn.metrics import mean_squared_error\n",
    "from sklearn.metrics import roc_curve,auc\n",
    "from sklearn.metrics import r2_score\n",
    "from math import sqrt\n"
   ]
  },
  {
   "cell_type": "markdown",
   "metadata": {},
   "source": [
    "### Import data"
   ]
  },
  {
   "cell_type": "code",
   "execution_count": 2,
   "metadata": {},
   "outputs": [],
   "source": [
    "#import datasets\n",
    "\n",
    "#train = pd.read_csv(\"train.csv\",encoding = \"ISO-8859-1\")\n",
    "train = pd.read_csv(\"Lagos_house_data.csv\",encoding = \"ISO-8859-1\")\n",
    "\n",
    "#test = pd.read_csv(\"test.csv\",encoding = \"ISO-8859-1\")"
   ]
  },
  {
   "cell_type": "markdown",
   "metadata": {},
   "source": [
    "### Inspect data"
   ]
  },
  {
   "cell_type": "code",
   "execution_count": 3,
   "metadata": {
    "scrolled": true
   },
   "outputs": [
    {
     "data": {
      "text/html": [
       "<div>\n",
       "<style scoped>\n",
       "    .dataframe tbody tr th:only-of-type {\n",
       "        vertical-align: middle;\n",
       "    }\n",
       "\n",
       "    .dataframe tbody tr th {\n",
       "        vertical-align: top;\n",
       "    }\n",
       "\n",
       "    .dataframe thead th {\n",
       "        text-align: right;\n",
       "    }\n",
       "</style>\n",
       "<table border=\"1\" class=\"dataframe\">\n",
       "  <thead>\n",
       "    <tr style=\"text-align: right;\">\n",
       "      <th></th>\n",
       "      <th>location</th>\n",
       "      <th>location_s</th>\n",
       "      <th>features</th>\n",
       "      <th>bath</th>\n",
       "      <th>bed</th>\n",
       "      <th>toilet</th>\n",
       "      <th>price</th>\n",
       "      <th>description</th>\n",
       "      <th>page</th>\n",
       "      <th>loc</th>\n",
       "    </tr>\n",
       "  </thead>\n",
       "  <tbody>\n",
       "    <tr>\n",
       "      <th>0</th>\n",
       "      <td>sosanya soluyi gbagada lagos</td>\n",
       "      <td>sosanya soluyi</td>\n",
       "      <td>3 bed 2 bath 3 toilet</td>\n",
       "      <td>2</td>\n",
       "      <td>3</td>\n",
       "      <td>3</td>\n",
       "      <td>850000</td>\n",
       "      <td>3 bedroom Flat / Apartment for rent Sosanya So...</td>\n",
       "      <td>1</td>\n",
       "      <td>gbagada</td>\n",
       "    </tr>\n",
       "    <tr>\n",
       "      <th>1</th>\n",
       "      <td>millenuim ups gbagada lagos</td>\n",
       "      <td>millenuim ups</td>\n",
       "      <td>1 bed 1 bath 1 toilet</td>\n",
       "      <td>1</td>\n",
       "      <td>1</td>\n",
       "      <td>1</td>\n",
       "      <td>650000</td>\n",
       "      <td>1 bedroom mini flat Mini flat Flat / Apartment...</td>\n",
       "      <td>1</td>\n",
       "      <td>gbagada</td>\n",
       "    </tr>\n",
       "    <tr>\n",
       "      <th>2</th>\n",
       "      <td>alapere gbagada lagos</td>\n",
       "      <td>alapere</td>\n",
       "      <td>2 bed 2 bath 2 toilet</td>\n",
       "      <td>2</td>\n",
       "      <td>2</td>\n",
       "      <td>2</td>\n",
       "      <td>600000</td>\n",
       "      <td>2bed at Alapere, all rooms ensuit ... ...</td>\n",
       "      <td>1</td>\n",
       "      <td>gbagada</td>\n",
       "    </tr>\n",
       "    <tr>\n",
       "      <th>3</th>\n",
       "      <td>medina gbagada lagos</td>\n",
       "      <td>medina</td>\n",
       "      <td>3 bed 3 bath 4 toilet</td>\n",
       "      <td>3</td>\n",
       "      <td>3</td>\n",
       "      <td>4</td>\n",
       "      <td>1500000</td>\n",
       "      <td>3 bedroom Flat / Apartment for rent Medina Gba...</td>\n",
       "      <td>1</td>\n",
       "      <td>gbagada</td>\n",
       "    </tr>\n",
       "    <tr>\n",
       "      <th>4</th>\n",
       "      <td>adeola atunrase medina gbagada lagos</td>\n",
       "      <td>adeola atunrase medina</td>\n",
       "      <td>3 bed 3 bath 3 toilet</td>\n",
       "      <td>3</td>\n",
       "      <td>3</td>\n",
       "      <td>3</td>\n",
       "      <td>1500000</td>\n",
       "      <td>3 bedroom House for rent Adeola Atunrase Medin...</td>\n",
       "      <td>1</td>\n",
       "      <td>gbagada</td>\n",
       "    </tr>\n",
       "  </tbody>\n",
       "</table>\n",
       "</div>"
      ],
      "text/plain": [
       "                               location              location_s  \\\n",
       "0          sosanya soluyi gbagada lagos          sosanya soluyi   \n",
       "1           millenuim ups gbagada lagos           millenuim ups   \n",
       "2                 alapere gbagada lagos                 alapere   \n",
       "3                  medina gbagada lagos                  medina   \n",
       "4  adeola atunrase medina gbagada lagos  adeola atunrase medina   \n",
       "\n",
       "                features bath  bed toilet    price  \\\n",
       "0  3 bed 2 bath 3 toilet    2    3      3   850000   \n",
       "1  1 bed 1 bath 1 toilet    1    1      1   650000   \n",
       "2  2 bed 2 bath 2 toilet    2    2      2   600000   \n",
       "3  3 bed 3 bath 4 toilet    3    3      4  1500000   \n",
       "4  3 bed 3 bath 3 toilet    3    3      3  1500000   \n",
       "\n",
       "                                         description  page      loc  \n",
       "0  3 bedroom Flat / Apartment for rent Sosanya So...     1  gbagada  \n",
       "1  1 bedroom mini flat Mini flat Flat / Apartment...     1  gbagada  \n",
       "2          2bed at Alapere, all rooms ensuit ... ...     1  gbagada  \n",
       "3  3 bedroom Flat / Apartment for rent Medina Gba...     1  gbagada  \n",
       "4  3 bedroom House for rent Adeola Atunrase Medin...     1  gbagada  "
      ]
     },
     "execution_count": 3,
     "metadata": {},
     "output_type": "execute_result"
    }
   ],
   "source": [
    "train.head()"
   ]
  },
  {
   "cell_type": "code",
   "execution_count": 7,
   "metadata": {},
   "outputs": [
    {
     "data": {
      "text/plain": [
       "(5188, 7)"
      ]
     },
     "execution_count": 7,
     "metadata": {},
     "output_type": "execute_result"
    }
   ],
   "source": [
    "train.shape"
   ]
  },
  {
   "cell_type": "markdown",
   "metadata": {},
   "source": [
    "## Part 1"
   ]
  },
  {
   "cell_type": "markdown",
   "metadata": {},
   "source": [
    "### Preprocess data"
   ]
  },
  {
   "cell_type": "code",
   "execution_count": 9,
   "metadata": {
    "scrolled": false
   },
   "outputs": [
    {
     "data": {
      "text/plain": [
       "bedrooms         0\n",
       "bathrooms        0\n",
       "toilets          0\n",
       "description      0\n",
       "location         0\n",
       "spec_location    0\n",
       "price            0\n",
       "dtype: int64"
      ]
     },
     "execution_count": 9,
     "metadata": {},
     "output_type": "execute_result"
    }
   ],
   "source": [
    "#check for missing values\n",
    "train.isnull().sum()"
   ]
  },
  {
   "cell_type": "code",
   "execution_count": null,
   "metadata": {},
   "outputs": [],
   "source": [
    "#Fix missing values (eliminate or input)\n",
    "\n"
   ]
  },
  {
   "cell_type": "markdown",
   "metadata": {},
   "source": [
    "### Build baseline model"
   ]
  },
  {
   "cell_type": "code",
   "execution_count": 43,
   "metadata": {},
   "outputs": [],
   "source": [
    "#modelling - Define train and test data\n",
    "x_train = \n",
    "y_train = \n",
    "x_test = \n",
    "y_test = "
   ]
  },
  {
   "cell_type": "code",
   "execution_count": 45,
   "metadata": {},
   "outputs": [
    {
     "data": {
      "text/plain": [
       "RandomForestRegressor(bootstrap=True, criterion='mse', max_depth=11,\n",
       "           max_features='auto', max_leaf_nodes=None,\n",
       "           min_impurity_decrease=0.0, min_impurity_split=None,\n",
       "           min_samples_leaf=1, min_samples_split=2,\n",
       "           min_weight_fraction_leaf=0.0, n_estimators=1400, n_jobs=None,\n",
       "           oob_score=False, random_state=1, verbose=0, warm_start=False)"
      ]
     },
     "execution_count": 45,
     "metadata": {},
     "output_type": "execute_result"
    }
   ],
   "source": [
    "#train model\n",
    "model1 = RandomForestRegressor(random_state=XXX, max_depth=XXX,n_estimators= XXX)\n",
    "model1.fit(x_train,y_train)"
   ]
  },
  {
   "cell_type": "code",
   "execution_count": 46,
   "metadata": {},
   "outputs": [
    {
     "name": "stdout",
     "output_type": "stream",
     "text": [
      "mean_squared_error 215785.1643181219\n"
     ]
    }
   ],
   "source": [
    "#Predict on test\n",
    "pred_test = model1.predict(x_test)"
   ]
  },
  {
   "cell_type": "code",
   "execution_count": null,
   "metadata": {},
   "outputs": [],
   "source": [
    "#Evaluate model\n",
    "score = sqrt(mean_squared_error(y_cv,pred_cv))\n",
    "print('mean_squared_error',score)"
   ]
  },
  {
   "cell_type": "markdown",
   "metadata": {},
   "source": [
    "## Part 2"
   ]
  },
  {
   "cell_type": "markdown",
   "metadata": {},
   "source": [
    "### Preprocess data- Identify Outliers"
   ]
  },
  {
   "cell_type": "code",
   "execution_count": null,
   "metadata": {},
   "outputs": [],
   "source": [
    "#Perform univariate analysis on Price\n",
    "sns.boxplot()"
   ]
  },
  {
   "cell_type": "code",
   "execution_count": null,
   "metadata": {},
   "outputs": [],
   "source": [
    "#Perform multivariate analysis on Price and location\n",
    "sns.boxplot(train['price'][(train['location']==XXX)&(train['bedrooms']==XXX)])"
   ]
  },
  {
   "cell_type": "code",
   "execution_count": null,
   "metadata": {},
   "outputs": [],
   "source": [
    "#Treat outliers eliminate/ input\n",
    "#Check this for more https://www.pluralsight.com/guides/cleaning-up-data-from-outliers"
   ]
  },
  {
   "cell_type": "code",
   "execution_count": null,
   "metadata": {},
   "outputs": [],
   "source": [
    "#Create loop to eliminate or input outliers\n",
    "locations = train['location'].unique()\n",
    "for location in locations:\n",
    "    for bed in range(1,6):\n",
    "        XXXXX"
   ]
  },
  {
   "cell_type": "markdown",
   "metadata": {},
   "source": [
    "### Create new features"
   ]
  },
  {
   "cell_type": "code",
   "execution_count": null,
   "metadata": {},
   "outputs": [],
   "source": [
    "#Identify Key words from House description to create features.\n",
    "#For example terrace houses/duplex are typically more expensive"
   ]
  },
  {
   "cell_type": "markdown",
   "metadata": {},
   "source": [
    "### Select Features for model"
   ]
  },
  {
   "cell_type": "code",
   "execution_count": null,
   "metadata": {},
   "outputs": [],
   "source": [
    "#Use filter methods or Wrapper methods or Embedded methods to select features"
   ]
  },
  {
   "cell_type": "code",
   "execution_count": null,
   "metadata": {},
   "outputs": [],
   "source": [
    "corr= train.corr()\n",
    "#corr\n",
    "f, ax = plt.subplots(figsize=(20, 5))\n",
    "sns.heatmap(corr,cmap='coolwarm',linewidths=2.0, annot=True)"
   ]
  },
  {
   "cell_type": "markdown",
   "metadata": {},
   "source": [
    "### Build Optimal model"
   ]
  },
  {
   "cell_type": "code",
   "execution_count": 43,
   "metadata": {},
   "outputs": [],
   "source": [
    "#modelling - Define train and test data\n",
    "x_train = \n",
    "y_train = \n",
    "x_test = \n",
    "y_test = "
   ]
  },
  {
   "cell_type": "code",
   "execution_count": 45,
   "metadata": {},
   "outputs": [
    {
     "data": {
      "text/plain": [
       "RandomForestRegressor(bootstrap=True, criterion='mse', max_depth=11,\n",
       "           max_features='auto', max_leaf_nodes=None,\n",
       "           min_impurity_decrease=0.0, min_impurity_split=None,\n",
       "           min_samples_leaf=1, min_samples_split=2,\n",
       "           min_weight_fraction_leaf=0.0, n_estimators=1400, n_jobs=None,\n",
       "           oob_score=False, random_state=1, verbose=0, warm_start=False)"
      ]
     },
     "execution_count": 45,
     "metadata": {},
     "output_type": "execute_result"
    }
   ],
   "source": [
    "#train model\n",
    "model1 = RandomForestRegressor(random_state=XXX, max_depth=XXX,n_estimators= XXX)\n",
    "model1.fit(x_train,y_train)"
   ]
  },
  {
   "cell_type": "code",
   "execution_count": 46,
   "metadata": {},
   "outputs": [
    {
     "name": "stdout",
     "output_type": "stream",
     "text": [
      "mean_squared_error 215785.1643181219\n"
     ]
    }
   ],
   "source": [
    "#Predict on test\n",
    "pred_test = model1.predict(x_test)"
   ]
  },
  {
   "cell_type": "code",
   "execution_count": null,
   "metadata": {},
   "outputs": [],
   "source": [
    "#Evaluate model\n",
    "score = sqrt(mean_squared_error(y_cv,pred_cv))\n",
    "print('mean_squared_error',score)"
   ]
  }
 ],
 "metadata": {
  "kernelspec": {
   "display_name": "Python 3",
   "language": "python",
   "name": "python3"
  },
  "language_info": {
   "codemirror_mode": {
    "name": "ipython",
    "version": 3
   },
   "file_extension": ".py",
   "mimetype": "text/x-python",
   "name": "python",
   "nbconvert_exporter": "python",
   "pygments_lexer": "ipython3",
   "version": "3.7.1"
  }
 },
 "nbformat": 4,
 "nbformat_minor": 1
}
